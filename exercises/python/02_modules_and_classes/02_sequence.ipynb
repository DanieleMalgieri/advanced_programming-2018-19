{
 "cells": [
  {
   "cell_type": "code",
   "execution_count": 81,
   "metadata": {},
   "outputs": [
    {
     "name": "stdout",
     "output_type": "stream",
     "text": [
      "['Spiderman', 'Megathron', 'Pippo', 'Arthas']\n"
     ]
    }
   ],
   "source": [
    "FavoriteHeroes = [\"Pippo\", \"Megathron\", \"Spiderman\", \"Arthas\"]\n",
    "def ReverseSpellingSort(myList):\n",
    "    ret = sorted(myList, key=lambda x: x[::-1])  # start:stop:step\n",
    "    return ret\n",
    "print(ReverseSpellingSort(FavoriteHeroes))"
   ]
  },
  {
   "cell_type": "code",
   "execution_count": 44,
   "metadata": {},
   "outputs": [
    {
     "ename": "SyntaxError",
     "evalue": "invalid syntax (<ipython-input-44-f345d1071daa>, line 29)",
     "output_type": "error",
     "traceback": [
      "\u001b[1;36m  File \u001b[1;32m\"<ipython-input-44-f345d1071daa>\"\u001b[1;36m, line \u001b[1;32m29\u001b[0m\n\u001b[1;33m    return len(self._data) == len(other._data) and all(a==b, for a,b in zip(self._data, other._data)) #zip permette di comparare one-by-one\u001b[0m\n\u001b[1;37m                                                               ^\u001b[0m\n\u001b[1;31mSyntaxError\u001b[0m\u001b[1;31m:\u001b[0m invalid syntax\n"
     ]
    }
   ],
   "source": [
    "import copy\n",
    "class Sequence:\n",
    "    \n",
    "    def __init__(self, myArg):                 # Constructor === Conviene creare una deep copy \n",
    "        self._data = copy.deepcopy(list(myArg))\n",
    "\n",
    "    def __str__(self):\n",
    "        return str(self._data)\n",
    "    \n",
    "    def __getitem__ (self, index):\n",
    "        return self._data[index]               #è valido anche per lo slicing start:stop:step\n",
    "                                               # inserire un controllo sull'argomento, anche per il setter\n",
    "    def __setvalue__ (self, pos, value):\n",
    "        self._data[pos] = value\n",
    "        \n",
    "    def __len__(self):\n",
    "        return len(self._data)\n",
    "    \n",
    "    def __delitem__(self,pos):\n",
    "        del self._data[pos]\n",
    "    \n",
    "    def __print__(self):\n",
    "        return ''.join(self)\n",
    "    \n",
    "    def __copy__(self):\n",
    "        return copy.deepcopy(self)\n",
    "    \n",
    "    def __eq__(self,other):\n",
    "        return len(self._data) == len(other._data) and all(a==b, for a,b in zip(self._data, other._data)) #zip permette di comparare one-by-one\n",
    "  #      # return self._data == other._data and all(zip (self._data, other._data)\n",
    "   #     # all ===> and tra bool\n",
    "    #    # any ===> or tra bool\n",
    "        \n",
    "s = Sequence(range(25))\n",
    "s = Sequence([1, 5, 42])\n",
    "print(s)"
   ]
  },
  {
   "cell_type": "code",
   "execution_count": 8,
   "metadata": {},
   "outputs": [],
   "source": [
    "r = Sequence(23)"
   ]
  },
  {
   "cell_type": "code",
   "execution_count": 9,
   "metadata": {},
   "outputs": [
    {
     "data": {
      "text/plain": [
       "False"
      ]
     },
     "execution_count": 9,
     "metadata": {},
     "output_type": "execute_result"
    }
   ],
   "source": [
    "s == r"
   ]
  },
  {
   "cell_type": "code",
   "execution_count": 40,
   "metadata": {
    "collapsed": true
   },
   "outputs": [
    {
     "ename": "NameError",
     "evalue": "name 'setvalue' is not defined",
     "output_type": "error",
     "traceback": [
      "\u001b[1;31m---------------------------------------------------------------------------\u001b[0m",
      "\u001b[1;31mNameError\u001b[0m                                 Traceback (most recent call last)",
      "\u001b[1;32m<ipython-input-40-d08ea758f6df>\u001b[0m in \u001b[0;36m<module>\u001b[1;34m()\u001b[0m\n\u001b[1;32m----> 1\u001b[1;33m \u001b[0msetvalue\u001b[0m\u001b[1;33m(\u001b[0m\u001b[0ms\u001b[0m\u001b[1;33m,\u001b[0m \u001b[1;36m3\u001b[0m\u001b[1;33m,\u001b[0m \u001b[1;36m6\u001b[0m\u001b[1;33m)\u001b[0m\u001b[1;33m\u001b[0m\u001b[0m\n\u001b[0m",
      "\u001b[1;31mNameError\u001b[0m: name 'setvalue' is not defined"
     ]
    }
   ],
   "source": [
    "setvalue(s, 3, 6)\n"
   ]
  }
 ],
 "metadata": {
  "kernelspec": {
   "display_name": "Python 3",
   "language": "python",
   "name": "python3"
  }
 },
 "nbformat": 4,
 "nbformat_minor": 2
}
