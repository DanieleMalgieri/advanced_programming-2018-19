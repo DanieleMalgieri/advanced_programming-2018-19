{
 "cells": [
  {
   "cell_type": "code",
   "execution_count": 1,
   "metadata": {},
   "outputs": [
    {
     "name": "stdout",
     "output_type": "stream",
     "text": [
      "True\n"
     ]
    }
   ],
   "source": [
    "def is_palindrome(string):\n",
    "    return string == ''.join(reversed(string))\n",
    "\n",
    "print(is_palindrome(\"itopinonavevanonipoti\"))\n",
    "\n"
   ]
  },
  {
   "cell_type": "code",
   "execution_count": 28,
   "metadata": {},
   "outputs": [
    {
     "name": "stdout",
     "output_type": "stream",
     "text": [
      "{'g': 2, 'r': 1, 'e': 1, 'a': 1, 't': 1, 'i': 1, 'n': 1, 's': 1}\n"
     ]
    },
    {
     "data": {
      "text/plain": [
       "<function matplotlib.pyplot.show(*args, **kw)>"
      ]
     },
     "execution_count": 28,
     "metadata": {},
     "output_type": "execute_result"
    },
    {
     "data": {
      "image/png": "[encoded data removed]",
      "text/plain": [
       "<matplotlib.figure.Figure at 0x7f7671d89e10>"
      ]
     },
     "metadata": {},
     "output_type": "display_data"
    }
   ],
   "source": [
    "import matplotlib.pyplot as plt\n",
    "import pylab as pl\n",
    "\n",
    "def histogram_letters(string):\n",
    "    ret = {}\n",
    "    for c in string:\n",
    "        ret[c] = ret.get(c,0)+1\n",
    "    return ret\n",
    "string = \"greatings\"\n",
    "\n",
    "a = histogram_letters(string)\n",
    "print(a)\n",
    "\n",
    "#plt.hist(a)\n",
    "pl.hist(list(a.keys()), weights=list(a.values()))\n",
    "pl.xlabel('letters')\n",
    "pl.ylabel('frequency')\n",
    "pl.show"
   ]
  },
  {
   "cell_type": "code",
   "execution_count": 3,
   "metadata": {},
   "outputs": [
    {
     "name": "stdout",
     "output_type": "stream",
     "text": [
      "o\n"
     ]
    }
   ],
   "source": [
    "import operator\n",
    "def histogram_letters(string):\n",
    "    ret = {}\n",
    "    for c in string:\n",
    "        ret[c] = ret.get(c,0)+1\n",
    "    return ret\n",
    "string = \"topolino\"\n",
    "a = histogram_letters(string)\n",
    "def get_most_frequent(myDict):\n",
    "    v = list(myDict.values())\n",
    "    k = list(myDict.keys())\n",
    "    return k[v.index(max(v))]\n",
    "print(get_most_frequent(a))"
   ]
  },
  {
   "cell_type": "code",
   "execution_count": 4,
   "metadata": {},
   "outputs": [
    {
     "name": "stdout",
     "output_type": "stream",
     "text": [
      "{'pippo': 2}\n"
     ]
    }
   ],
   "source": [
    "def which_duplicates(list_var):\n",
    "    ret = {}\n",
    "    elem = {}\n",
    "    for c in list_var:\n",
    "        elem[c] = elem.get(c,0)+1\n",
    "    ret = {key:val for key, val in elem.items() if val != 1}\n",
    "    return ret\n",
    "\n",
    "print(which_duplicates((\"pippo\", \"topolino\", \"pippo\")))\n"
   ]
  },
  {
   "cell_type": "code",
   "execution_count": 38,
   "metadata": {},
   "outputs": [
    {
     "name": "stdout",
     "output_type": "stream",
     "text": [
      "21 is not prime. 3 is it's first divisor\n"
     ]
    },
    {
     "data": {
      "text/plain": [
       "False"
      ]
     },
     "execution_count": 38,
     "metadata": {},
     "output_type": "execute_result"
    }
   ],
   "source": [
    "def is_prime(number):\n",
    "    if (type(number) == int):\n",
    "        prime = True\n",
    "        string = \"accptable number\"\n",
    "        if (number % 2 == 0):\n",
    "            print(\"%d is not prime, 'cauz it's odd!\" % number)\n",
    "            prime = False\n",
    "        else:\n",
    "            for n in range(3,int((number-1)/2), 2):\n",
    "                if (number%n == 0):\n",
    "                    print(\"%d is not prime. %d is it's first divisor\" % (number, n))\n",
    "                    prime = False\n",
    "                    return prime\n",
    "        if prime:\n",
    "            print(\"%d is a prime number!\" % number)\n",
    "    else: \n",
    "        string = \"retry with a valid input\"\n",
    "    return prime\n",
    "\n",
    "is_prime(21)"
   ]
  },
  {
   "cell_type": "code",
   "execution_count": 47,
   "metadata": {},
   "outputs": [
    {
     "name": "stdout",
     "output_type": "stream",
     "text": [
      "1 1\n",
      "2 2\n",
      "3 6\n",
      "4 24\n",
      "5 120\n",
      "6 720\n"
     ]
    },
    {
     "data": {
      "text/plain": [
       "720"
      ]
     },
     "execution_count": 47,
     "metadata": {},
     "output_type": "execute_result"
    }
   ],
   "source": [
    "def compute_factorial(number):\n",
    "    ret = 1\n",
    "    for n in range(1,number+1):\n",
    "        ret = ret*n\n",
    "        print(n,ret)\n",
    "    return ret\n",
    "\n",
    "compute_factorial(6)"
   ]
  },
  {
   "cell_type": "code",
   "execution_count": null,
   "metadata": {},
   "outputs": [],
   "source": []
  }
 ],
 "metadata": {
  "kernelspec": {
   "display_name": "Python 3",
   "language": "python",
   "name": "python3"
  },
  "language_info": {
   "codemirror_mode": {
    "name": "ipython",
    "version": 3
   },
   "file_extension": ".py",
   "mimetype": "text/x-python",
   "name": "python",
   "nbconvert_exporter": "python",
   "pygments_lexer": "ipython3",
   "version": "3.6.2"
  }
 },
 "nbformat": 4,
 "nbformat_minor": 2
}
